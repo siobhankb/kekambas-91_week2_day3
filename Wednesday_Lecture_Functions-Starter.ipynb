{
 "cells": [
  {
   "cell_type": "markdown",
   "metadata": {},
   "source": [
    "# Functions"
   ]
  },
  {
   "cell_type": "markdown",
   "metadata": {},
   "source": [
    "#### Warm up"
   ]
  },
  {
   "cell_type": "markdown",
   "metadata": {},
   "source": [
    "- Remove extra spaces, periods, commas\n",
    "- fix capitalization"
   ]
  },
  {
   "cell_type": "code",
   "execution_count": 17,
   "metadata": {},
   "outputs": [
    {
     "name": "stdout",
     "output_type": "stream",
     "text": [
      "['  thE beATles   ', 'tHe RoLLing sTones..', '.,tHe eagles', 'the tEMptationS  ']\n",
      "['The Beatles', 'The Rolling Stones', 'The Eagles', 'The Temptations']\n"
     ]
    }
   ],
   "source": [
    "bands = ['  thE beATles   ', 'tHe RoLLing sTones..', '.,tHe eagles', 'the tEMptationS  ']\n",
    "print(bands)\n",
    "\n",
    "bands_cleanup = [band.strip(\" .,\").title() for band in bands]\n",
    "print(bands_cleanup)"
   ]
  },
  {
   "cell_type": "code",
   "execution_count": null,
   "metadata": {},
   "outputs": [],
   "source": [
    "# Output: ['The Beatles', 'The Rolling Stones', etc]"
   ]
  },
  {
   "cell_type": "code",
   "execution_count": 16,
   "metadata": {},
   "outputs": [
    {
     "name": "stdout",
     "output_type": "stream",
     "text": [
      "[' The whO  ', '  .   , tHE dOORS  ', ' the bAnd   ', '...,  THE kINks    ']\n",
      "['The Who', 'The Doors', 'The Band', 'The Kinks']\n"
     ]
    }
   ],
   "source": [
    "bands2 = [' The whO  ', '  .   , tHE dOORS  ', ' the bAnd   ', '...,  THE kINks    ']\n",
    "print(bands2)\n",
    "\n",
    "bands_cleanup2 = [band.strip(\" .,\").title() for band in bands2]\n",
    "print(bands_cleanup2)"
   ]
  },
  {
   "cell_type": "markdown",
   "metadata": {},
   "source": [
    "## Functions"
   ]
  },
  {
   "cell_type": "markdown",
   "metadata": {},
   "source": [
    "##### User-Defined vs. Built-In Function"
   ]
  },
  {
   "cell_type": "code",
   "execution_count": 18,
   "metadata": {},
   "outputs": [
    {
     "name": "stdout",
     "output_type": "stream",
     "text": [
      "<built-in function max>\n",
      "Help on built-in function max in module builtins:\n",
      "\n",
      "max(...)\n",
      "    max(iterable, *[, default=obj, key=func]) -> value\n",
      "    max(arg1, arg2, *args, *[, key=func]) -> value\n",
      "    \n",
      "    With a single iterable argument, return its biggest item. The\n",
      "    default keyword-only argument specifies an object to return if\n",
      "    the provided iterable is empty.\n",
      "    With two or more arguments, return the largest argument.\n",
      "\n"
     ]
    }
   ],
   "source": [
    "# Built-in functions\n",
    "print(max)\n",
    "help(max)"
   ]
  },
  {
   "cell_type": "code",
   "execution_count": 20,
   "metadata": {},
   "outputs": [
    {
     "data": {
      "text/plain": [
       "<function __main__.say_hello()>"
      ]
     },
     "execution_count": 20,
     "metadata": {},
     "output_type": "execute_result"
    }
   ],
   "source": [
    "# User Defined Function\n",
    "# Syntax: def function_name():\n",
    "#             <CODE TO EXECUTE WHEN CALLED>\n",
    "\n",
    "# Creating a function\n",
    "def say_hello():\n",
    "    name = input(\"What is your name? \")\n",
    "    print(f\"\\nHello, {name}!\\n\")\n",
    "\n",
    "#tells about the function, doesn't run in\n",
    "say_hello"
   ]
  },
  {
   "cell_type": "code",
   "execution_count": 21,
   "metadata": {
    "scrolled": true
   },
   "outputs": [
    {
     "name": "stdout",
     "output_type": "stream",
     "text": [
      "Help on function say_hello in module __main__:\n",
      "\n",
      "say_hello()\n",
      "    # Creating a function\n",
      "\n"
     ]
    }
   ],
   "source": [
    "#will print out the actual function\n",
    "help(say_hello)"
   ]
  },
  {
   "cell_type": "code",
   "execution_count": 22,
   "metadata": {},
   "outputs": [
    {
     "name": "stdout",
     "output_type": "stream",
     "text": [
      "What is your name? Siobhan\n",
      "\n",
      "Hello, Siobhan!\n",
      "\n"
     ]
    }
   ],
   "source": [
    "#runs the function ()\n",
    "say_hello()"
   ]
  },
  {
   "cell_type": "code",
   "execution_count": 23,
   "metadata": {},
   "outputs": [
    {
     "name": "stdout",
     "output_type": "stream",
     "text": [
      "Before the function runs-->\n",
      "What is your name? Siobhan\n",
      "\n",
      "Hello, Siobhan!\n",
      "\n",
      "After the function runs<--\n"
     ]
    }
   ],
   "source": [
    "# Executing a function\n",
    "# Syntax: function_name()\n",
    "\n",
    "print(\"Before the function runs-->\")\n",
    "say_hello() #<---parentheses CALL the function (AKA invoke, execute the function)\n",
    "print(\"After the function runs<--\")"
   ]
  },
  {
   "cell_type": "markdown",
   "metadata": {},
   "source": [
    "##### Accepting Parameters"
   ]
  },
  {
   "cell_type": "code",
   "execution_count": 29,
   "metadata": {},
   "outputs": [
    {
     "name": "stdout",
     "output_type": "stream",
     "text": [
      "first: Siobhan\n",
      "last: Boylan\n",
      "\n",
      "Hello, Siobhan Boylan!\n",
      "\n",
      "first: Boylan\n",
      "last: Siobhan\n",
      "\n",
      "Hello, Boylan Siobhan!\n",
      "\n"
     ]
    }
   ],
   "source": [
    "# Syntax: def function_name(param1, param2):\n",
    "#             <CODE TO EXECUTE with variable param1 and param2>\n",
    "#  ** ORDER & NUMBER of parameters matters!\n",
    "\n",
    "def say_hello2(first, last):\n",
    "    print(f\"first: {first}\")\n",
    "    print(f\"last: {last}\")\n",
    "    print(f\"\\nHello, {first.title()} {last.title()}!\\n\")\n",
    "    \n",
    "# Execute\n",
    "# Syntax: function_name(data1, data2)\n",
    "say_hello2('siobhan', 'boylan')\n",
    "say_hello2('Boylan', 'Siobhan')"
   ]
  },
  {
   "cell_type": "markdown",
   "metadata": {},
   "source": [
    "##### Passing in variables as parameters"
   ]
  },
  {
   "cell_type": "code",
   "execution_count": 32,
   "metadata": {},
   "outputs": [
    {
     "name": "stdout",
     "output_type": "stream",
     "text": [
      "Chicago, Il -- 60606\n",
      "Boston, Ma -- 02212\n"
     ]
    }
   ],
   "source": [
    "city1 = 'boston'\n",
    "state1 = 'MA'\n",
    "zip_code1 = '02212'\n",
    "\n",
    "city2 = 'new york'\n",
    "state2 = 'NY'\n",
    "zip_code2 = '10456'\n",
    "\n",
    "def format_address (city_name, state_name, zip_code):\n",
    "    print(f\"{city_name.title()}, {state_name.title()} -- {zip_code}\")\n",
    "\n",
    "format_address('Chicago', 'IL', '60606')\n",
    "format_address(city1, state1, zip_code1)"
   ]
  },
  {
   "cell_type": "markdown",
   "metadata": {},
   "source": [
    "##### Keyword Arguments"
   ]
  },
  {
   "cell_type": "code",
   "execution_count": 61,
   "metadata": {},
   "outputs": [],
   "source": [
    "def make_a_payment(total_amount_due, amount_paid, account_number):\n",
    "    new_total = total_amount_due - amount_paid\n",
    "    print(f\"You have made a payment of ${amount_paid} to Account #{account_number}\")\n",
    "    print(f\"Your new balance is ${new_total}\")\n",
    "    print(\"Thank you for your payment\\n\")\n",
    "    "
   ]
  },
  {
   "cell_type": "code",
   "execution_count": 62,
   "metadata": {},
   "outputs": [
    {
     "name": "stdout",
     "output_type": "stream",
     "text": [
      "You have made a payment of $100 to Account #35689248\n",
      "Your new balance is $900\n",
      "Thank you for your payment\n",
      "\n"
     ]
    }
   ],
   "source": [
    "#use positional arguments (inputs in position of parameters of function)\n",
    "make_a_payment(1000, 100, '35689248')"
   ]
  },
  {
   "cell_type": "code",
   "execution_count": 63,
   "metadata": {},
   "outputs": [
    {
     "name": "stdout",
     "output_type": "stream",
     "text": [
      "You have made a payment of $150 to Account #35689248\n",
      "Your new balance is $1850\n",
      "Thank you for your payment\n",
      "\n",
      "You have made a payment of $150 to Account #35689248\n",
      "Your new balance is $1850\n",
      "Thank you for your payment\n",
      "\n"
     ]
    }
   ],
   "source": [
    "#kwargs: key word arguments\n",
    "make_a_payment(2000, account_number='35689248', amount_paid=150)\n",
    "\n",
    "#positional arguments always go BEFORE key word arguments\n",
    "#this won't workn bc -2000- is a positional argument that Python looks for in the first position\n",
    "#make_a_payment(account_number='35689248', amount_paid=150, 2000)\n",
    "\n",
    "#this WILL work because it  fills in positional (in correct position) and then kwargs out of order\n",
    "make_a_payment(2000, amount_paid=150, account_number='35689248')"
   ]
  },
  {
   "cell_type": "markdown",
   "metadata": {},
   "source": [
    "##### Default Parameters"
   ]
  },
  {
   "cell_type": "code",
   "execution_count": 64,
   "metadata": {
    "scrolled": true
   },
   "outputs": [
    {
     "name": "stdout",
     "output_type": "stream",
     "text": [
      "Thank you Beth. Here is your receipt:\n",
      "1 Hamburger\n",
      "\twith cheese\n",
      "\twith lettuce\n",
      "\twith tomato\n",
      "Total: $9.50\n",
      "\n"
     ]
    }
   ],
   "source": [
    "#default parameters need to be AFTER the non-default (AKA positional) parameters\n",
    "\n",
    "def make_a_burger(customer_name, cheese=True, lettuce=True, tomato=True, onions=None):\n",
    "    total_price = 9.50\n",
    "    receipt = f\"Thank you {customer_name}. Here is your receipt:\\n\"\n",
    "    receipt += \"1 Hamburger\\n\"\n",
    "    if cheese:\n",
    "        receipt += \"\\twith cheese\\n\"\n",
    "    if lettuce:\n",
    "        receipt += \"\\twith lettuce\\n\"\n",
    "    if tomato:\n",
    "        receipt += \"\\twith tomato\\n\"\n",
    "    if onions:\n",
    "        receipt += f\"\\twith {onions} onions\\n\"\n",
    "        total_price += .50\n",
    "    receipt += f\"Total: ${total_price:.2f}\\n\"\n",
    "    print(receipt)\n",
    "\n",
    "make_a_burger(\"Beth\")"
   ]
  },
  {
   "cell_type": "code",
   "execution_count": 65,
   "metadata": {},
   "outputs": [
    {
     "name": "stdout",
     "output_type": "stream",
     "text": [
      "Thank you Claire. Here is your receipt:\n",
      "1 Hamburger\n",
      "\twith cheese\n",
      "Total: $9.50\n",
      "\n"
     ]
    }
   ],
   "source": [
    "#positional arguments - must put in order of arguments specified in function\n",
    "make_a_burger(\"Claire\", True, False, False)"
   ]
  },
  {
   "cell_type": "code",
   "execution_count": 66,
   "metadata": {},
   "outputs": [
    {
     "name": "stdout",
     "output_type": "stream",
     "text": [
      "Thank you Rosie. Here is your receipt:\n",
      "1 Hamburger\n",
      "\twith cheese\n",
      "Total: $9.50\n",
      "\n"
     ]
    }
   ],
   "source": [
    "#keyword arguments - as long as you name the argument, doesn't matter the order\n",
    "make_a_burger(\"Rosie\", lettuce=False, tomato=False)"
   ]
  },
  {
   "cell_type": "code",
   "execution_count": 67,
   "metadata": {},
   "outputs": [
    {
     "name": "stdout",
     "output_type": "stream",
     "text": [
      "Thank you Katie. Here is your receipt:\n",
      "1 Hamburger\n",
      "\twith cheese\n",
      "\twith lettuce\n",
      "\twith tomato\n",
      "\twith grilled onions\n",
      "Total: $10.00\n",
      "\n"
     ]
    }
   ],
   "source": [
    "#defaults fill in anything not specifically referenced\n",
    "make_a_burger(\"Katie\", onions=\"grilled\")"
   ]
  },
  {
   "cell_type": "markdown",
   "metadata": {},
   "source": [
    "##### \\*args and **kwargs"
   ]
  },
  {
   "cell_type": "code",
   "execution_count": 71,
   "metadata": {},
   "outputs": [
    {
     "name": "stdout",
     "output_type": "stream",
     "text": [
      "arg1: a\n",
      "arg2: b\n",
      "args: ('c',)\n",
      "<class 'tuple'>\n",
      "c\n"
     ]
    }
   ],
   "source": [
    "#arg1 and arg2 are POSITIONAL\n",
    "# *args is an undefined number of arguments\n",
    "# * before the name of an argument will return a TUPLE\n",
    "def my_function(arg1, arg2, *args):\n",
    "    print(\"arg1:\", arg1)\n",
    "    print(\"arg2:\", arg2)\n",
    "    print(\"args:\", args)\n",
    "    print(type(args))\n",
    "    for x in args:\n",
    "        print(x)\n",
    "    \n",
    "my_function('a', 'b', 'c')"
   ]
  },
  {
   "cell_type": "code",
   "execution_count": 72,
   "metadata": {
    "scrolled": true
   },
   "outputs": [
    {
     "name": "stdout",
     "output_type": "stream",
     "text": [
      "arg1: a\n",
      "arg2: b\n",
      "args: ('c', 'd', 'e', 'f', 'g')\n",
      "<class 'tuple'>\n",
      "c\n",
      "d\n",
      "e\n",
      "f\n",
      "g\n"
     ]
    }
   ],
   "source": [
    "my_function('a', 'b', 'c', 'd', 'e', 'f', 'g')"
   ]
  },
  {
   "cell_type": "code",
   "execution_count": 79,
   "metadata": {},
   "outputs": [
    {
     "name": "stdout",
     "output_type": "stream",
     "text": [
      "arg1: a\n",
      "arg2: b\n",
      "args: ('c', 'd', 'e', 'cabbage', 'broccoli')\n",
      "<class 'tuple'>\n",
      "c\n",
      "d\n",
      "e\n",
      "cabbage\n",
      "broccoli\n",
      "kwargs: {'key': 'value', 'num': 10, 'name': 'Kathleen', 'hair': 'brown', 'age': 42, 'pet': 'dog', 'pet_name': 'Rosie'}\n"
     ]
    }
   ],
   "source": [
    "# **kwargs will take in any number of key word arguments\n",
    "# **kwargs produces a dictionary\n",
    "def my_function(arg1, arg2, *args, **kwargs):\n",
    "    print(\"arg1:\", arg1)\n",
    "    print(\"arg2:\", arg2)\n",
    "    print(\"args:\", args)\n",
    "    print(type(args))\n",
    "    for x in args:\n",
    "        print(x)\n",
    "    print(\"kwargs:\", kwargs)\n",
    "\n",
    "my_function('a', 'b', 'c', 'd', 'e', 'cabbage', 'broccoli', key='value', num=10, name='Kathleen', hair='brown', age=42, pet='dog', pet_name='Rosie')\n",
    "\n",
    "#must input *args before **kwargs because of position of arguments in function\n",
    "#my_function('a', 'b', 'c', 'd', 'e', key='value', num=10, name='Siobhan', 'cabbage','broccoli', key='hair', num=42, name='Rosie')"
   ]
  },
  {
   "cell_type": "markdown",
   "metadata": {},
   "source": [
    "#### In Class Exercise 1"
   ]
  },
  {
   "cell_type": "markdown",
   "metadata": {},
   "source": [
    "Create a function that takes in a color, make, and model and formats it into a string.<br>\n",
    "Then loop over the cars list and apply the function to each element.<br>\n",
    "Expected Output:<br>\n",
    "<code>Blue Toyota Tundra\n",
    "Green Chevy Silverado\n",
    "Pink Ford F-150</code>\n"
   ]
  },
  {
   "cell_type": "code",
   "execution_count": 98,
   "metadata": {},
   "outputs": [
    {
     "name": "stdout",
     "output_type": "stream",
     "text": [
      "('blue', 'toyota', 'tundra')\n",
      "Blue Toyota Tundra\n",
      "('green', 'chevy', 'silverado')\n",
      "Green Chevy Silverado\n",
      "('pink', 'ford', 'f-150')\n",
      "Pink Ford F-150\n"
     ]
    }
   ],
   "source": [
    "cars = [('blue', 'toyota', 'tundra'), ('green', 'chevy', 'silverado'), ('pink', 'ford', 'f-150')]\n",
    "\n",
    "#define a function that formats ONE car with THREE parameters\n",
    "def format_car(color, make, model):\n",
    "    print(f\"{color} {make} {model}\".title())\n",
    "\n",
    "# THEN iterate over the list of cars, each having 3 parameters\n",
    "for car in cars:\n",
    "#     print(car)\n",
    "    format_car(car[0], car[1], car[2])\n"
   ]
  },
  {
   "cell_type": "code",
   "execution_count": 99,
   "metadata": {},
   "outputs": [
    {
     "name": "stdout",
     "output_type": "stream",
     "text": [
      "Blue Toyota Tundra\n",
      "Green Chevy Silverado\n",
      "Pink Ford F-150\n"
     ]
    }
   ],
   "source": [
    "# OR, more simply, define ALL the items to iterate in the for loop\n",
    "# and pass those items into the defined function that formats ONE car\n",
    "for color, make, model in cars:\n",
    "    format_car(color, make, model)"
   ]
  },
  {
   "cell_type": "code",
   "execution_count": 100,
   "metadata": {},
   "outputs": [
    {
     "ename": "SyntaxError",
     "evalue": "invalid syntax (2919148403.py, line 1)",
     "output_type": "error",
     "traceback": [
      "\u001b[0;36m  Input \u001b[0;32mIn [100]\u001b[0;36m\u001b[0m\n\u001b[0;31m    def format_car(car_list[color], car_list[make], car_list[model]):\u001b[0m\n\u001b[0m                           ^\u001b[0m\n\u001b[0;31mSyntaxError\u001b[0m\u001b[0;31m:\u001b[0m invalid syntax\n"
     ]
    }
   ],
   "source": [
    "def format_car(car_list[color], car_list[make], car_list[model]):\n",
    "    print(f\"{car_list[color]} {car_list[make]} {car_list[model]}\".title())"
   ]
  },
  {
   "cell_type": "code",
   "execution_count": 106,
   "metadata": {},
   "outputs": [
    {
     "name": "stdout",
     "output_type": "stream",
     "text": [
      "Blue Toyota Tundra\n",
      "Green Chevy Silverado\n",
      "Pink Ford F-150\n"
     ]
    }
   ],
   "source": [
    "# BUT! Can you just build ONE dang function that does the whole thing?!?!\n",
    "\n",
    "# use ENUMERATE:\n",
    "cars = [('blue', 'toyota', 'tundra'), ('green', 'chevy', 'silverado'), ('pink', 'ford', 'f-150')]\n",
    "\n",
    "def format_car_list(car_list_of_tuples):\n",
    "    for index, car in enumerate(car_list_of_tuples):\n",
    "        print(f\"{car[0]} {car[1]} {car[2]}\".title())\n",
    "    \n",
    "format_car_list(cars)"
   ]
  },
  {
   "cell_type": "code",
   "execution_count": 142,
   "metadata": {},
   "outputs": [
    {
     "name": "stdout",
     "output_type": "stream",
     "text": [
      "Yellow Citroen\n",
      "1995 Blue Toyota Tundra\n",
      "Green Chevy Silverado\n",
      "2001 Pink Ford F-150\n"
     ]
    }
   ],
   "source": [
    "# What if you don't know how many items in each tuple?\n",
    "cars = [('yellow', 'citroen'), ('1995', 'blue', 'toyota', 'tundra'), ('green', 'chevy', 'silverado'), ('2001', 'pink', 'ford', 'f-150')]\n",
    "\n",
    "def format_car_list(car_list_of_tuples):\n",
    "    #get index & value for tuples in list:\n",
    "    for index, car in enumerate(car_list_of_tuples):\n",
    "        #get index and value for items in tuple:\n",
    "        for i, c in enumerate(car):\n",
    "            #if it's the last item in the tuple, add a hard return:\n",
    "            if i == len(car) - 1:\n",
    "                print(f\"{c}\".title(), end=\"\\n\")\n",
    "            else:\n",
    "                print(f\"{c}\".title(), end=\" \")\n",
    "\n",
    "    \n",
    "format_car_list(cars)"
   ]
  },
  {
   "cell_type": "code",
   "execution_count": 143,
   "metadata": {},
   "outputs": [
    {
     "name": "stdout",
     "output_type": "stream",
     "text": [
      "Citroen\n",
      "1995 Blue Toyota Tundra\n",
      "Green Chevy Silverado\n",
      "2001 Pink Ford F-150\n"
     ]
    }
   ],
   "source": [
    "#What if some items in the car list are just single items, not tuples?\n",
    "\n",
    "cars = ['citroen', ('1995', 'blue', 'toyota', 'tundra'), ('green', 'chevy', 'silverado'), ('2001', 'pink', 'ford', 'f-150')]\n",
    "\n",
    "def format_car_list(car_list_of_tuples):\n",
    "    #get index & value for tuples in list:\n",
    "    for index, car in enumerate(car_list_of_tuples):\n",
    "        if isinstance(car, tuple):\n",
    "            #get index and value for items in tuple:\n",
    "            for i, c in enumerate(car):\n",
    "                #if it's the last item in the tuple, add a hard return:\n",
    "                if i == len(car) - 1:\n",
    "                    print(f\"{c}\".title(), end=\"\\n\")\n",
    "                else:\n",
    "                    print(f\"{c}\".title(), end=\" \")\n",
    "        else:\n",
    "            print(f\"{car}\".title(), end=\"\\n\")\n",
    "\n",
    "    \n",
    "format_car_list(cars)"
   ]
  },
  {
   "cell_type": "markdown",
   "metadata": {},
   "source": [
    "## Scope <br>\n",
    "<p>Scope refers to the ability to access variables, different types of scope include:<br>a) Global<br>b) Function (local)<br>c) Class (local)</p>"
   ]
  },
  {
   "cell_type": "code",
   "execution_count": 152,
   "metadata": {},
   "outputs": [
    {
     "name": "stdout",
     "output_type": "stream",
     "text": [
      "Veruca Salt has been assigned to Ms. Honey's class\n"
     ]
    }
   ],
   "source": [
    "#these are global variables\n",
    "student1 = \"Matilda\"\n",
    "teacher = \"Ms. Honey\"\n",
    "\n",
    "def assign_student(student_name):\n",
    "    #this is a function(local) variable\n",
    "    student_name = 'Veruca Salt'\n",
    "    print(f\"{student_name} has been assigned to {teacher}'s class\")\n",
    "\n",
    "#will assign Veruca Salt\n",
    "assign_student(student1)"
   ]
  },
  {
   "cell_type": "code",
   "execution_count": 153,
   "metadata": {},
   "outputs": [
    {
     "name": "stdout",
     "output_type": "stream",
     "text": [
      "Matilda has been assigned to Ms. Honey's class\n"
     ]
    }
   ],
   "source": [
    "student1 = \"Matilda\"\n",
    "teacher = \"Ms. Honey\"\n",
    "\n",
    "def assign_student(student_name):\n",
    "    print(f\"{student_name} has been assigned to {teacher}'s class\")\n",
    "    \n",
    "#will assign Matilda\n",
    "assign_student(student1)"
   ]
  },
  {
   "cell_type": "code",
   "execution_count": null,
   "metadata": {},
   "outputs": [],
   "source": [
    "#this allows you to reference the even_list after the function is finished\n",
    "even_list = []\n",
    "def find_evens(numlist):\n",
    "    for num in numlist:\n",
    "        if num % 2 == 0:\n",
    "            even_list.append(num)\n",
    "    print(even_list)\n"
   ]
  },
  {
   "cell_type": "code",
   "execution_count": null,
   "metadata": {},
   "outputs": [],
   "source": [
    "#most of the time, you'll want to scope your new lists and variables INSIDE the function, \n",
    "#so they don't continue to exist once the function is finished\n",
    "even_list = []\n",
    "def find_evens(numlist):\n",
    "    for num in numlist:\n",
    "        if num % 2 == 0:\n",
    "            even_list.append(num)\n",
    "    print(even_list)"
   ]
  },
  {
   "cell_type": "markdown",
   "metadata": {},
   "source": [
    "##### Returning Values"
   ]
  },
  {
   "cell_type": "code",
   "execution_count": 154,
   "metadata": {},
   "outputs": [
    {
     "name": "stdout",
     "output_type": "stream",
     "text": [
      "10\n"
     ]
    }
   ],
   "source": [
    "# Mathematical Function - y = f(x)\n",
    "# Where f is the function, x is the input(s), and y is the dependent variable (or the return variable)\n",
    "\n",
    "# returned values set to variables are GLOBAL variables\n",
    "\n",
    "def f(x):\n",
    "    return 2 * x\n",
    "\n",
    "y = f(5)\n",
    "print(y)"
   ]
  },
  {
   "cell_type": "code",
   "execution_count": 155,
   "metadata": {},
   "outputs": [
    {
     "name": "stdout",
     "output_type": "stream",
     "text": [
      "20\n"
     ]
    }
   ],
   "source": [
    "z = f(10)\n",
    "print(z)"
   ]
  },
  {
   "cell_type": "code",
   "execution_count": 161,
   "metadata": {},
   "outputs": [
    {
     "name": "stdout",
     "output_type": "stream",
     "text": [
      "0\n",
      "1\n",
      "2\n",
      "3\n",
      "4\n",
      "5\n",
      "6\n",
      "7\n",
      "8\n",
      "9\n"
     ]
    }
   ],
   "source": [
    "def early_return(n):\n",
    "    for i in range(n):\n",
    "        print(i)\n",
    "    \n",
    "early_return(10)\n"
   ]
  },
  {
   "cell_type": "code",
   "execution_count": 162,
   "metadata": {
    "scrolled": true
   },
   "outputs": [
    {
     "data": {
      "text/plain": [
       "0"
      ]
     },
     "execution_count": 162,
     "metadata": {},
     "output_type": "execute_result"
    }
   ],
   "source": [
    "# Return will also immediately terminate the function\n",
    "def early_return(n):\n",
    "    for i in range(n):\n",
    "        return i\n",
    "    \n",
    "early_return(1000)\n",
    "#returns 0 because it's the first item in the range 0-n\n"
   ]
  },
  {
   "cell_type": "markdown",
   "metadata": {},
   "source": [
    "#### Multiple returns in a function"
   ]
  },
  {
   "cell_type": "code",
   "execution_count": 163,
   "metadata": {},
   "outputs": [
    {
     "name": "stdout",
     "output_type": "stream",
     "text": [
      "True\n",
      "False\n"
     ]
    }
   ],
   "source": [
    "def can_vote(birth_year):\n",
    "    if 2022 - birth_year >= 18:\n",
    "        return True\n",
    "    return False\n",
    "\n",
    "print(can_vote(2000))\n",
    "print(can_vote(2005))"
   ]
  },
  {
   "cell_type": "markdown",
   "metadata": {},
   "source": [
    "##### Difference between `return` and `print`"
   ]
  },
  {
   "cell_type": "code",
   "execution_count": 167,
   "metadata": {},
   "outputs": [
    {
     "name": "stdout",
     "output_type": "stream",
     "text": [
      "I Love Python!\n",
      "None by   Siobhan:\n",
      "Learning Python is so much fun   \n"
     ]
    }
   ],
   "source": [
    "# if you print it, there is no value if you want to reference it later\n",
    "\n",
    "# when the first function PRINTS a value, the next function will return NONE\n",
    "def clean_headline_print(message):\n",
    "    print(message.strip().title() + \"!\")\n",
    "\n",
    "def publish_article(headline, author, body):\n",
    "    clean_headline = clean_headline_print(headline)\n",
    "\n",
    "    print(f\"{clean_headline} by {author}:\\n{body}\")\n",
    "    \n",
    "publish_article(\"   I love Python             \", \"  Siobhan\", \"Learning Python is so much fun   \")"
   ]
  },
  {
   "cell_type": "code",
   "execution_count": 171,
   "metadata": {},
   "outputs": [
    {
     "name": "stdout",
     "output_type": "stream",
     "text": [
      "I Love Python by Siobhan:\n",
      "Learning Python is so much fun!\n"
     ]
    }
   ],
   "source": [
    "# When you return a variable in a function, you can use it again later\n",
    "# when the first function RETURNS a value, the next function can reference the return value    \n",
    "def clean_headline_return(message):\n",
    "    return message.strip(\" ,.\").title()\n",
    "    \n",
    "def publish_article(headline, author, body):\n",
    "    clean_headline = clean_headline_return(headline)\n",
    "    \n",
    "    print(f\"{clean_headline} by {author}:\\n{body}\")\n",
    "    \n",
    "publish_article(\"   I love python,             \", \"Siobhan\", \"Learning Python is so much fun!\")"
   ]
  },
  {
   "cell_type": "code",
   "execution_count": null,
   "metadata": {},
   "outputs": [],
   "source": []
  },
  {
   "cell_type": "markdown",
   "metadata": {},
   "source": [
    "#### Functions with Lists"
   ]
  },
  {
   "cell_type": "code",
   "execution_count": 172,
   "metadata": {},
   "outputs": [
    {
     "data": {
      "text/plain": [
       "<function __main__.clean_names(list_of_names)>"
      ]
     },
     "execution_count": 172,
     "metadata": {},
     "output_type": "execute_result"
    }
   ],
   "source": [
    "def clean_names(list_of_names):\n",
    "    output_list = []\n",
    "    for name in list_of_names:\n",
    "        clean_name = name.strip().title()\n",
    "        output_list.append(clean_name)\n",
    "    return output_list\n",
    "\n",
    "clean_names"
   ]
  },
  {
   "cell_type": "code",
   "execution_count": 173,
   "metadata": {},
   "outputs": [
    {
     "name": "stdout",
     "output_type": "stream",
     "text": [
      "['John Lennon', 'Paul Mccartney', 'George Harrison', 'Ringo Starr']\n"
     ]
    }
   ],
   "source": [
    "messy_beatles = [' joHN lENNon ', ' PaUL MCCartNEy ', ' gEORge HARRisOn ', ' rInGo STarr '] \n",
    "clean_beatles = clean_names(messy_beatles)\n",
    "print(clean_beatles)"
   ]
  },
  {
   "cell_type": "code",
   "execution_count": 174,
   "metadata": {},
   "outputs": [
    {
     "name": "stdout",
     "output_type": "stream",
     "text": [
      "['The Beatles', 'The Rolling Stones', 'The Eagles', 'The Temptations']\n",
      "['The Who', 'The Doors', 'The Band', 'The Kinks']\n"
     ]
    }
   ],
   "source": [
    "def clean_band_names(messy_band_list):\n",
    "    return [band.strip(\" .,\").title() for band in messy_band_list]\n",
    "\n",
    "print(clean_band_names(bands))\n",
    "print(clean_band_names(bands2))\n",
    "    "
   ]
  },
  {
   "cell_type": "markdown",
   "metadata": {},
   "source": [
    "#### In-Class Exercise 2"
   ]
  },
  {
   "cell_type": "markdown",
   "metadata": {},
   "source": [
    "Create a function that takes in the list of tuples ('city', 'country') and a country name and returns a list of the cities in that country"
   ]
  },
  {
   "cell_type": "code",
   "execution_count": 176,
   "metadata": {},
   "outputs": [],
   "source": [
    "#use a RETURN function\n",
    "cities = [\n",
    "    (\"London\", \"England\"), \n",
    "    (\"Manchester\", \"England\"), \n",
    "    (\"Barcelona\", \"Spain\"), \n",
    "    (\"Madrid\", \"Spain\"), \n",
    "    (\"Rome\", \"Italy\"), \n",
    "    (\"Florence\", \"Italy\")\n",
    "]\n"
   ]
  },
  {
   "cell_type": "code",
   "execution_count": 198,
   "metadata": {},
   "outputs": [
    {
     "name": "stdout",
     "output_type": "stream",
     "text": [
      "['Rome', 'Florence']\n",
      "<function cities_in_country at 0x7fe548cfb5e0>\n"
     ]
    }
   ],
   "source": [
    "cities = [\n",
    "    (\"London\", \"England\"), \n",
    "    (\"Manchester\", \"England\"), \n",
    "    (\"Barcelona\", \"Spain\"), \n",
    "    (\"Madrid\", \"Spain\"), \n",
    "    (\"Rome\", \"Italy\"), \n",
    "    (\"Florence\", \"Italy\")\n",
    "]\n",
    "\n",
    "def cities_in_country(city_tuples, country_name):\n",
    "    cities_in_my_country = []\n",
    "    for city, country in city_tuples:\n",
    "        if country_name == country:\n",
    "            cities_in_my_country.append(city)\n",
    "    return cities_in_my_country\n",
    "            \n",
    "\n",
    "my_cities = cities_in_country(cities, 'Italy')\n",
    "print(my_cities)\n",
    "\n",
    "# output --> []'Rome', 'Florence']"
   ]
  },
  {
   "cell_type": "code",
   "execution_count": 199,
   "metadata": {},
   "outputs": [
    {
     "name": "stdout",
     "output_type": "stream",
     "text": [
      "['Rome', 'Florence']\n"
     ]
    }
   ],
   "source": [
    "# As list comprehension\n",
    "cities = [\n",
    "    (\"London\", \"England\"), \n",
    "    (\"Manchester\", \"England\"), \n",
    "    (\"Barcelona\", \"Spain\"), \n",
    "    (\"Madrid\", \"Spain\"), \n",
    "    (\"Rome\", \"Italy\"), \n",
    "    (\"Florence\", \"Italy\")\n",
    "]\n",
    "\n",
    "def cities_in_country(city_tuples, country_name):\n",
    "    cities_in_my_country = []\n",
    "    return [city for city, country in city_tuples if country_name == country]\n",
    "    \n",
    "my_cities = cities_in_country(cities, 'Italy')\n",
    "print(my_cities)"
   ]
  },
  {
   "cell_type": "markdown",
   "metadata": {},
   "source": [
    "#### Docstrings"
   ]
  },
  {
   "cell_type": "code",
   "execution_count": 200,
   "metadata": {},
   "outputs": [
    {
     "name": "stdout",
     "output_type": "stream",
     "text": [
      "Help on built-in function max in module builtins:\n",
      "\n",
      "max(...)\n",
      "    max(iterable, *[, default=obj, key=func]) -> value\n",
      "    max(arg1, arg2, *args, *[, key=func]) -> value\n",
      "    \n",
      "    With a single iterable argument, return its biggest item. The\n",
      "    default keyword-only argument specifies an object to return if\n",
      "    the provided iterable is empty.\n",
      "    With two or more arguments, return the largest argument.\n",
      "\n"
     ]
    }
   ],
   "source": [
    "help(max)"
   ]
  },
  {
   "cell_type": "code",
   "execution_count": 201,
   "metadata": {},
   "outputs": [
    {
     "name": "stdout",
     "output_type": "stream",
     "text": [
      "Help on function cities_in_country in module __main__:\n",
      "\n",
      "cities_in_country(city_tuples, country_name)\n",
      "\n"
     ]
    }
   ],
   "source": [
    "help(cities_in_country)"
   ]
  },
  {
   "cell_type": "code",
   "execution_count": 202,
   "metadata": {},
   "outputs": [
    {
     "data": {
      "text/plain": [
       "30"
      ]
     },
     "execution_count": 202,
     "metadata": {},
     "output_type": "execute_result"
    }
   ],
   "source": [
    "# Docstring is the documentation you write about your function\n",
    "def add_nums(num1, num2):\n",
    "    return num1 + num2\n",
    "\n",
    "add_nums(10,20)"
   ]
  },
  {
   "cell_type": "code",
   "execution_count": 203,
   "metadata": {},
   "outputs": [
    {
     "data": {
      "text/plain": [
       "30"
      ]
     },
     "execution_count": 203,
     "metadata": {},
     "output_type": "execute_result"
    }
   ],
   "source": [
    "# Use \"\"\" to offset information about your function\n",
    "\n",
    "def add_nums(num1, num2):\n",
    "    \"\"\"add_nums takes in two arguments (num1 and num2) and adds them together.\n",
    "    num1 and num2 must be either int or float\n",
    "    num1 -> int or float\n",
    "    num2 -> int or float\n",
    "    return int or float\n",
    "    \"\"\"\n",
    "    return num1 + num2\n",
    "\n",
    "add_nums(10,20)"
   ]
  },
  {
   "cell_type": "code",
   "execution_count": 204,
   "metadata": {},
   "outputs": [
    {
     "name": "stdout",
     "output_type": "stream",
     "text": [
      "Help on function add_nums in module __main__:\n",
      "\n",
      "add_nums(num1, num2)\n",
      "    add_nums takes in two arguments (num1 and num2) and adds them together.\n",
      "    num1 and num2 must be either int or float\n",
      "    num1 -> int or float\n",
      "    num2 -> int or float\n",
      "    return int or float\n",
      "\n"
     ]
    }
   ],
   "source": [
    "help(add_nums)"
   ]
  },
  {
   "cell_type": "markdown",
   "metadata": {},
   "source": [
    "#### Whiteboard Approach"
   ]
  },
  {
   "cell_type": "markdown",
   "metadata": {},
   "source": [
    "1. What are the input(s)?\n",
    "2. What are the output(s)?\n",
    "3. Consider constraints and edge cases\n",
    "4. Write out steps logically (No python)\n",
    "5. Pseudocode\n",
    "6. Code"
   ]
  },
  {
   "cell_type": "markdown",
   "metadata": {},
   "source": [
    "#### Whiteboard Example"
   ]
  },
  {
   "cell_type": "markdown",
   "metadata": {},
   "source": [
    "Find Even numbers<br>\n",
    "Create a function that, given a list as a parameter, finds the even numbers <br>\n",
    "inside the list. The function should then return a list.<br>\n",
    "Bonus: Use a list comprehension to find your solution<br>\n",
    "Example:<br>\n",
    "Input: [2, 7, 10, 11, 12]<br>\n",
    "Output: [2, 10, 12]<br>"
   ]
  },
  {
   "cell_type": "code",
   "execution_count": null,
   "metadata": {},
   "outputs": [],
   "source": [
    "# 1. Input(s): \n",
    "# 2. Output(s): \n",
    "# 3a. Constraints: \n",
    "# 3b. Edge cases:\n",
    "# 4. Steps\n",
    "# 5. Pseudocode\n",
    "# 6. Code"
   ]
  },
  {
   "cell_type": "code",
   "execution_count": 207,
   "metadata": {},
   "outputs": [
    {
     "data": {
      "text/plain": [
       "[2, 10, 12]"
      ]
     },
     "execution_count": 207,
     "metadata": {},
     "output_type": "execute_result"
    }
   ],
   "source": [
    "# 1. Input(s): list[int]\n",
    "# 2. Output(s): list[int] -> all int in the list should be even\n",
    "# 3a. Constraints: can assume all int are between 0 and 100\n",
    "# 3b. Edge cases: input is empty input has no evens, return an empty list\n",
    "# 4. Steps:\n",
    "#    iterate through list\n",
    "#    test each item if it is even (divisible by 2)\n",
    "#    if the item is even, add it to a list holding even numbers\n",
    "#    when finished, return the list of even numbers\n",
    "\n",
    "# 5. Pseudocode\n",
    "#    def function (list of numbers bewteen 0 and 100):\n",
    "        # create an empty list for even numbers\n",
    "        # loop through list of ints\n",
    "            # divide current int by 2\n",
    "            # if current int is divisible by 2\n",
    "                # add current int to list holding even numbers\n",
    "            # if not even, do nothing\n",
    "        # return list of even numbers\n",
    "        \n",
    "# 6. Code\n",
    "\n",
    "def get_even_numbers(list_of_nums):\n",
    "    even_list = []\n",
    "    for num in list_of_nums:\n",
    "        if num % 2 == 0:\n",
    "            even_list.append(num)\n",
    "    return even_list\n",
    "\n",
    "# Example:\n",
    "# Input: [2, 7, 10, 11, 12]\n",
    "# Output: [2, 10, 12]\n",
    "\n",
    "get_even_numbers([2, 7, 10, 11, 12])"
   ]
  }
 ],
 "metadata": {
  "kernelspec": {
   "display_name": "Python 3 (ipykernel)",
   "language": "python",
   "name": "python3"
  },
  "language_info": {
   "codemirror_mode": {
    "name": "ipython",
    "version": 3
   },
   "file_extension": ".py",
   "mimetype": "text/x-python",
   "name": "python",
   "nbconvert_exporter": "python",
   "pygments_lexer": "ipython3",
   "version": "3.9.7"
  }
 },
 "nbformat": 4,
 "nbformat_minor": 2
}
